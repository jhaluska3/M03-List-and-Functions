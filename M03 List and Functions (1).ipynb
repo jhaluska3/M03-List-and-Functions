{
 "cells": [
  {
   "cell_type": "code",
   "execution_count": 42,
   "id": "5ae9a7dc",
   "metadata": {},
   "outputs": [
    {
     "data": {
      "text/plain": [
       "['mozzarella', 'cinderella', 'salmonella']"
      ]
     },
     "execution_count": 42,
     "metadata": {},
     "output_type": "execute_result"
    }
   ],
   "source": [
    "#7.4 Make a list called things with these three strings as elements: \"mozzarella\", \"cinderella\", \"salmonella\".\n",
    "things = ['mozzarella', 'cinderella', 'salmonella']\n",
    "things"
   ]
  },
  {
   "cell_type": "code",
   "execution_count": 12,
   "id": "54276392",
   "metadata": {},
   "outputs": [
    {
     "data": {
      "text/plain": [
       "'Cinderella'"
      ]
     },
     "execution_count": 12,
     "metadata": {},
     "output_type": "execute_result"
    }
   ],
   "source": [
    "#7.5 Capitalize the element in things that refers to a person.\n",
    "things = ['mozzarella', 'cinderella', 'salmonella']\n",
    "things[1].capitalize()"
   ]
  },
  {
   "cell_type": "code",
   "execution_count": 9,
   "id": "f6046494",
   "metadata": {},
   "outputs": [
    {
     "data": {
      "text/plain": [
       "['MOZZARELLA', 'cinderella', 'salmonella']"
      ]
     },
     "execution_count": 9,
     "metadata": {},
     "output_type": "execute_result"
    }
   ],
   "source": [
    "#7.6 Make the cheesy element of things all uppercase and then print the list.\n",
    "things = ['mozzarella', 'cinderella', 'salmonella']\n",
    "things[0] = things[0].upper()#7.6 Make the cheesy element of things all uppercase and then print the list.\n",
    "things"
   ]
  },
  {
   "cell_type": "code",
   "execution_count": 38,
   "id": "efcc031b",
   "metadata": {},
   "outputs": [
    {
     "data": {
      "text/plain": [
       "['mozzarella', 'cinderella']"
      ]
     },
     "execution_count": 38,
     "metadata": {},
     "output_type": "execute_result"
    }
   ],
   "source": [
    "#7.7 Delete the disease element from things, collect your Nobel Prize, and print the list.\n",
    "things = ['mozzarella', 'cinderella', 'salmonella']\n",
    "things.remove('salmonella')\n",
    "things"
   ]
  },
  {
   "cell_type": "code",
   "execution_count": 17,
   "id": "b0f4c761",
   "metadata": {},
   "outputs": [
    {
     "data": {
      "text/plain": [
       "['MOZZARELLA', 'Cinderella']"
      ]
     },
     "execution_count": 17,
     "metadata": {},
     "output_type": "execute_result"
    }
   ],
   "source": [
    "#7.4 - 7.7 As one continuous code\n",
    "things = ['mozzarella', 'cinderella', 'salmonella'] #7.4 \n",
    "things[1] = things[1].capitalize() #7.5 Capitalize the element in things that refers to a person.\n",
    "things[0] = things[0].upper()#7.6 Make the cheesy element of things all uppercase and then print the list.\n",
    "things\n",
    "things.remove('salmonella') #7.7Delete the disease element from things, collect your Nobel Prize, and print the list.\n",
    "things"
   ]
  },
  {
   "cell_type": "code",
   "execution_count": 18,
   "id": "c0612a30",
   "metadata": {},
   "outputs": [
    {
     "data": {
      "text/plain": [
       "['Harry', 'Ron', 'Hermione']"
      ]
     },
     "execution_count": 18,
     "metadata": {},
     "output_type": "execute_result"
    }
   ],
   "source": [
    "#9.1 Define a function called good() that returns the following list: ['Harry', 'Ron', 'Hermione'].\n",
    "def good():\n",
    "    return ['Harry', 'Ron', 'Hermione']\n",
    "good()\n",
    "\n"
   ]
  },
  {
   "cell_type": "code",
   "execution_count": 41,
   "id": "40b6e40c",
   "metadata": {},
   "outputs": [
    {
     "name": "stdout",
     "output_type": "stream",
     "text": [
      "5\n"
     ]
    }
   ],
   "source": [
    "#9.2  Define a generator function called get_odds() that returns the odd numbers from range(10). \n",
    "#Use a for loop to find and print the third value returned.\n",
    "def get_odds():\n",
    "    for num in range(10):\n",
    "        if num % 2 != 0:\n",
    "            yield num\n",
    "count = 0\n",
    "for num in get_odds():\n",
    "    if count < 2 :\n",
    "       count += 1\n",
    "    else:\n",
    "        print (num)\n",
    "        break\n",
    "   "
   ]
  }
 ],
 "metadata": {
  "kernelspec": {
   "display_name": "Python 3 (ipykernel)",
   "language": "python",
   "name": "python3"
  },
  "language_info": {
   "codemirror_mode": {
    "name": "ipython",
    "version": 3
   },
   "file_extension": ".py",
   "mimetype": "text/x-python",
   "name": "python",
   "nbconvert_exporter": "python",
   "pygments_lexer": "ipython3",
   "version": "3.9.13"
  }
 },
 "nbformat": 4,
 "nbformat_minor": 5
}
